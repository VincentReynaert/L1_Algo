{
 "cells": [
  {
   "cell_type": "markdown",
   "id": "91f98dd8",
   "metadata": {},
   "source": [
    "# I. Trouver une nombre entre 0 et 2048"
   ]
  },
  {
   "cell_type": "code",
   "execution_count": 2,
   "id": "06ca45bc",
   "metadata": {},
   "outputs": [],
   "source": [
    "chosenNb = 500\n",
    "MIN = 0\n",
    "MAX = 2048"
   ]
  },
  {
   "cell_type": "code",
   "execution_count": 9,
   "id": "63c779b2",
   "metadata": {},
   "outputs": [],
   "source": [
    "# cette fonction renvoie (return) le milieu d'un intervale (range)\n",
    "def midOfRange(mini, maxi):\n",
    "    return (maxi - mini)//2 + mini\n",
    "\n",
    "def findTheNumberInRange(nbToFind,mini,maxi):\n",
    "    mid = midOfRange(mini, maxi)\n",
    "    while mid!=nbToFind:\n",
    "        if mid < nbToFind:\n",
    "            print(\"Le nombre à trouver est plus grand que : \" + str(mid))\n",
    "            mini = mid\n",
    "        else : \n",
    "            print(\"Le nombre à trouver est plus petit que : \" + str(mid))\n",
    "            maxi = mid\n",
    "        mid = midOfRange(mini, maxi)\n",
    "    return mid"
   ]
  },
  {
   "cell_type": "code",
   "execution_count": 10,
   "id": "a92879a3",
   "metadata": {},
   "outputs": [
    {
     "name": "stdout",
     "output_type": "stream",
     "text": [
      "Le nombre à trouver est plus petit que : 1024\n",
      "Le nombre à trouver est plus petit que : 512\n",
      "Le nombre à trouver est plus grand que : 256\n",
      "Le nombre à trouver est plus grand que : 384\n",
      "Le nombre à trouver est plus grand que : 448\n",
      "Le nombre à trouver est plus grand que : 480\n",
      "Le nombre à trouver est plus grand que : 496\n",
      "Le nombre à trouver est plus petit que : 504\n"
     ]
    },
    {
     "data": {
      "text/plain": [
       "500"
      ]
     },
     "execution_count": 10,
     "metadata": {},
     "output_type": "execute_result"
    }
   ],
   "source": [
    "findTheNumberInRange(chosenNb,MIN,MAX)"
   ]
  },
  {
   "cell_type": "code",
   "execution_count": 11,
   "id": "140a09e1",
   "metadata": {},
   "outputs": [
    {
     "name": "stdout",
     "output_type": "stream",
     "text": [
      "Le nombre à trouver est plus petit que : 1024\n",
      "Le nombre à trouver est plus petit que : 512\n",
      "Le nombre à trouver est plus petit que : 256\n",
      "Le nombre à trouver est plus petit que : 128\n",
      "Le nombre à trouver est plus petit que : 64\n",
      "Le nombre à trouver est plus grand que : 32\n",
      "Le nombre à trouver est plus petit que : 48\n",
      "Le nombre à trouver est plus petit que : 40\n",
      "Le nombre à trouver est plus petit que : 36\n",
      "Le nombre à trouver est plus grand que : 34\n"
     ]
    },
    {
     "data": {
      "text/plain": [
       "35"
      ]
     },
     "execution_count": 11,
     "metadata": {},
     "output_type": "execute_result"
    }
   ],
   "source": [
    "findTheNumberInRange(35,MIN,MAX)"
   ]
  },
  {
   "cell_type": "code",
   "execution_count": 12,
   "id": "098886f2",
   "metadata": {},
   "outputs": [
    {
     "name": "stdout",
     "output_type": "stream",
     "text": [
      "Le nombre à trouver est plus petit que : 1024\n",
      "Le nombre à trouver est plus petit que : 512\n",
      "Le nombre à trouver est plus petit que : 256\n",
      "Le nombre à trouver est plus petit que : 128\n",
      "Le nombre à trouver est plus petit que : 64\n",
      "Le nombre à trouver est plus petit que : 32\n",
      "Le nombre à trouver est plus petit que : 16\n",
      "Le nombre à trouver est plus petit que : 8\n",
      "Le nombre à trouver est plus petit que : 4\n",
      "Le nombre à trouver est plus petit que : 2\n"
     ]
    },
    {
     "data": {
      "text/plain": [
       "1"
      ]
     },
     "execution_count": 12,
     "metadata": {},
     "output_type": "execute_result"
    }
   ],
   "source": [
    "findTheNumberInRange(1,MIN,MAX)"
   ]
  },
  {
   "cell_type": "code",
   "execution_count": null,
   "id": "7df3e007",
   "metadata": {},
   "outputs": [],
   "source": []
  }
 ],
 "metadata": {
  "kernelspec": {
   "display_name": "Python 3 (ipykernel)",
   "language": "python",
   "name": "python3"
  },
  "language_info": {
   "codemirror_mode": {
    "name": "ipython",
    "version": 3
   },
   "file_extension": ".py",
   "mimetype": "text/x-python",
   "name": "python",
   "nbconvert_exporter": "python",
   "pygments_lexer": "ipython3",
   "version": "3.9.7"
  }
 },
 "nbformat": 4,
 "nbformat_minor": 5
}
