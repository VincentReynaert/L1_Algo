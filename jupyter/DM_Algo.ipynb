{
 "cells": [
  {
   "cell_type": "markdown",
   "id": "9d737ace",
   "metadata": {},
   "source": [
    "prenom, nom\n",
    "\n",
    "<eventuelles autres personnes ayant travaillé avec vous>\n",
    "\n",
    "# DM d'Algorithmie\n",
    "\n",
    "Bonjour, \n",
    "\n",
    "Ce Devoir Maison d'algorithmie sera noté et comptera pour moitié de la note de Contrôle Continu avec la note sur le projet de jeu textuel que vous aurez à réaliser.\n",
    "\n",
    "## Etape 1 : Renommer\n",
    "Dans un premier temps merci de renommer ce fichier comme suit :\n",
    "\n",
    "DM_Algo_prenom_nom\n",
    "\n",
    "Pour cela soit vous modifier directement le nom du fichier dans l'explorateur de fichier soit vous allez sur File>Rename.\n",
    "\n",
    "## Etape 2 : Ajouter Prenom Nom au début de la feuille\n",
    "\n",
    "Remplacer le \"prenom nom\" écrit en haut de cette cellule.\n",
    "\n",
    "Pour cela double cliquez sur la cellule. Une fois la modification apportée l'appliquer en appuyant sur le bouton Exécuter ou avec le raccourci clavier Ctrl+Enter\n",
    "\n",
    "## Etape 3 : Répondre aux QCM\n",
    "\n",
    "Pour répondre aux QCM merci de suivre la méthode suivante :\n",
    "\n",
    "* Pour répondre à ce QCM il faudra afficher la/les réponses via un print. ex Si la réponse est A,B et D alors il faudra écrire **print(\"ABD\")**\n",
    "* A chaque cellule Markdown de question correspond une cellule python de réponse où il sera indiqué en commentaire le numéro de la question correspondante.\n",
    "\n",
    "Vous pourrez également vous référer à l'exemple Question 0.\n",
    "\n",
    "Le non-respect de ces directives **entraîne un malus** sur la note finale.\n",
    "\n",
    "__Un QCM est un questionnaire à CHOIX MULTIPLES__ Plusieurs réponses sont donc parfois possible !\n",
    "* Une question peut avoir **une ou plusieurs**réponses. \n",
    "* Une réponse fausse, l’absence de réponse et la sélection d’une réponse fausse avec une réponse bonne vaudront **0 point** pour la question associée. \n",
    "* Une réponse partielle à la question (ex : donner une seule réponse lorsque plusieurs sont attendue) vaudra **le pourcentage de points associés** à cette réponse (ex : bonne réponse est ABC, vous répondez A, vous aurez ⅓ de point sur cette question).\n",
    "* Si toutes les réponses sont sélectionnées pour une question **des points négatifs** seront comptabilisés.\n",
    "\n",
    "## Etape 4 : Réponde aux questions ouvertes de code Python\n",
    "\n",
    "__Lisez attentivement la consigne pour chacune de ces questions !__\n",
    "\n",
    "## Etape 5 : Rendu du DM\n",
    "\n",
    "Le rendu attendu est ce fichier que vous aurez modifié en suivant les consignes ci-dessus.\n",
    "\n",
    "Il devra être déposé sur le disk partagé L1A,B ou C dépendamment de votre groupe.\n",
    "\n",
    "## ATTENTION\n",
    "\n",
    "Merci de ne pas tricher en recopiant bêtement le fichier du collègue. **Un malus sera appliqué aux deux rendus jugé trop proches/identiques.**\n",
    "\n",
    "Merci également dans le cas où vous auriez travaillé ce DM par binôme ou trinôme de le préciser en haut de cette cellule en indiquant le prénom et nom de la/les personne.s avec qui vous avez collaboré. Cependant le rendu reste individuel et on évite donc les copier coller avec les mêmes erreurs que ses camarades.\n",
    "\n",
    "## NB 1\n",
    "\n",
    "Si certaines notions de ce DM n'ont pas encore été abordée en cours (dépendamment de votre groupe nous sommes plus ou moins avancé) merci de le préciser mais d'essayer tout de même de répondre à la question en se référant aux slides du cours :  https://docs.google.com/presentation/d/193qqeLBneT02sMBcREZZjqO2LFeL0fK6PC94U5s-EI4/edit?usp=sharing\n",
    "\n",
    "### NB 2\n",
    "\n",
    "La cellule que j'ai utilisé ici est de type Markdown. Il s'agit d'un langage balisé comme le HTML. Ce n'est pas un langage de programmation et donc il ne s'agit pas de code informatique.\n",
    "\n",
    "Aussi le Markdown possède une syntaxe particulière comme vous le remarquerez probablement lorsque vous double-cliquerez sur la cellule pour la modifier.\n",
    "\n",
    "\n",
    "### NB 3\n",
    "\n",
    "Bon courage pour ce DM"
   ]
  },
  {
   "cell_type": "markdown",
   "id": "f72f26be",
   "metadata": {},
   "source": [
    "## QCM"
   ]
  },
  {
   "cell_type": "markdown",
   "id": "2f6cdc13",
   "metadata": {},
   "source": [
    "### Question 0\n",
    "Parmis les affirmations suivantes la/lesquelle.s est/sont vraie.s ?\n",
    "* A. Toujours donner la même réponse à un QCM est forcément un bon choix.\n",
    "* B. Lire les consignes ne sert à rien et fait perdre du temps autant y aller directement.\n",
    "* C. Pour répondre à ce QCM il faudra afficher la/les réponses via un print.\n",
    "* D. A chaque cellule Markdown de question correspond une cellule python de réponse où il sera indiqué en commentaire le numéro de la question correspondante."
   ]
  },
  {
   "cell_type": "code",
   "execution_count": 1,
   "id": "64b3817e",
   "metadata": {},
   "outputs": [
    {
     "name": "stdout",
     "output_type": "stream",
     "text": [
      "CD\n"
     ]
    }
   ],
   "source": [
    "#Réponse 0\n",
    "print(\"CD\")"
   ]
  },
  {
   "cell_type": "markdown",
   "id": "6dbd3a22",
   "metadata": {},
   "source": [
    "### Question 1\n",
    "Un algorithme c'est :\n",
    "* A. un programme informatique.\n",
    "* B. une suite d'instructions et d’opérations sans ordre précis permettant de résoudre certains problèmes ou d’effectuer certaines actions.\n",
    "* C. une recette de cuisine.\n",
    "* D. une suite finie et non ambiguë d'instructions et d’opérations permettant de résoudre certains problèmes ou d’effectuer certaines actions."
   ]
  },
  {
   "cell_type": "code",
   "execution_count": null,
   "id": "20a53a10",
   "metadata": {},
   "outputs": [],
   "source": [
    "#Réponse 1\n",
    "print(\"\")"
   ]
  },
  {
   "cell_type": "markdown",
   "id": "6e7e07c3",
   "metadata": {},
   "source": [
    "### Question 2\n",
    "Pour écrire un algorithme :\n",
    "* A. on peut utiliser une représentation graphique.\n",
    "* B. on doit l'écrire dans un langage informatique comme le Python.\n",
    "* C. on peut l'écrire en français grace à un pseudo langage.\n",
    "* D. on doit réfléchir aux procédures et aux décisions qui seront nécessaire pour le faire fonctionner."
   ]
  },
  {
   "cell_type": "code",
   "execution_count": null,
   "id": "dd119fe4",
   "metadata": {},
   "outputs": [],
   "source": [
    "#Réponse 2\n",
    "print(\"\")"
   ]
  },
  {
   "cell_type": "markdown",
   "id": "8da2882c",
   "metadata": {},
   "source": [
    "### Question 3\n",
    "Soit l'algorithme suivant (si l'image ne s'affiche pas correctement merci de vous référer au fichier Algo_42.PNG disponible dans le dossier d'archive que je vous ai partagé) :\n",
    "\n",
    "![Diagram 42](Algo_42.PNG)\n",
    "\n",
    "Parmis les affirmations suivantes la/lesquelle.s est/sont vraie.s :\n",
    "* A. Cet algorithme vérifie si un utilisateur sait que La réponse universelle est 42 et le félicite si c'est le cas.\n",
    "* B. Ce diagramme n'est pas un algorithme.\n",
    "* C. Cet algorithme va demander en boucle à l'utilisateur d'entrer un nombre jusqu'à ce qu'il le fasse.\n",
    "* D. Cet algorithme calcule une moyenne."
   ]
  },
  {
   "cell_type": "code",
   "execution_count": null,
   "id": "d5e8f135",
   "metadata": {},
   "outputs": [],
   "source": [
    "#Réponse 3\n",
    "print(\"\")"
   ]
  },
  {
   "cell_type": "markdown",
   "id": "30885bde",
   "metadata": {},
   "source": [
    "### Question 4\n",
    "Parmis les affirmations suivantes la/lesquelle.s est/sont vraie.s :\n",
    "* A. Point de vie est un nom de variable acceptable.\n",
    "* B. La définition d'une variable c'est qu'elle varie.\n",
    "* C. Une variable c'est une sorte de carton avec une étiquette qui permet de stocker de la donnée.\n",
    "* D. Une variable qui est de type booléen stockera la valeur Vrai ou la valeur Faux."
   ]
  },
  {
   "cell_type": "code",
   "execution_count": null,
   "id": "3f23532c",
   "metadata": {},
   "outputs": [],
   "source": [
    "#Réponse 4\n",
    "print(\"\")"
   ]
  },
  {
   "cell_type": "markdown",
   "id": "981792bd",
   "metadata": {},
   "source": [
    "### Question 5"
   ]
  },
  {
   "cell_type": "code",
   "execution_count": null,
   "id": "71332e5e",
   "metadata": {},
   "outputs": [],
   "source": [
    "#Réponse 5\n",
    "print(\"\")"
   ]
  },
  {
   "cell_type": "markdown",
   "id": "97729144",
   "metadata": {},
   "source": [
    "### Question 6"
   ]
  },
  {
   "cell_type": "code",
   "execution_count": null,
   "id": "6e1d9199",
   "metadata": {},
   "outputs": [],
   "source": [
    "#Réponse 6\n",
    "print(\"\")"
   ]
  },
  {
   "cell_type": "markdown",
   "id": "0707eb81",
   "metadata": {},
   "source": [
    "### Question 7"
   ]
  },
  {
   "cell_type": "code",
   "execution_count": null,
   "id": "7b0a7636",
   "metadata": {},
   "outputs": [],
   "source": [
    "#Réponse 7\n",
    "print(\"\")"
   ]
  },
  {
   "cell_type": "markdown",
   "id": "517fb532",
   "metadata": {},
   "source": [
    "### Question 8"
   ]
  },
  {
   "cell_type": "code",
   "execution_count": null,
   "id": "071a09f0",
   "metadata": {},
   "outputs": [],
   "source": [
    "#Réponse 8\n",
    "print(\"\")"
   ]
  },
  {
   "cell_type": "markdown",
   "id": "faa11aa6",
   "metadata": {},
   "source": [
    "### Question 9"
   ]
  },
  {
   "cell_type": "code",
   "execution_count": null,
   "id": "dab78398",
   "metadata": {},
   "outputs": [],
   "source": [
    "#Réponse 9\n",
    "print(\"\")"
   ]
  },
  {
   "cell_type": "markdown",
   "id": "195e47e6",
   "metadata": {},
   "source": [
    "### Question 10\n",
    "Parmis les affirmations suivantes la/lesquelle.s est/sont vraie.s :\n",
    "* A.\n",
    "* B.\n",
    "* C.\n",
    "* D."
   ]
  },
  {
   "cell_type": "code",
   "execution_count": 2,
   "id": "ff694bb5",
   "metadata": {},
   "outputs": [
    {
     "name": "stdout",
     "output_type": "stream",
     "text": [
      "\n"
     ]
    }
   ],
   "source": [
    "#Réponse 10\n",
    "print(\"\")"
   ]
  },
  {
   "cell_type": "markdown",
   "id": "11879309",
   "metadata": {},
   "source": [
    "## Python"
   ]
  },
  {
   "cell_type": "code",
   "execution_count": null,
   "id": "6a1227ad",
   "metadata": {},
   "outputs": [],
   "source": []
  }
 ],
 "metadata": {
  "kernelspec": {
   "display_name": "Python 3 (ipykernel)",
   "language": "python",
   "name": "python3"
  },
  "language_info": {
   "codemirror_mode": {
    "name": "ipython",
    "version": 3
   },
   "file_extension": ".py",
   "mimetype": "text/x-python",
   "name": "python",
   "nbconvert_exporter": "python",
   "pygments_lexer": "ipython3",
   "version": "3.9.7"
  }
 },
 "nbformat": 4,
 "nbformat_minor": 5
}
